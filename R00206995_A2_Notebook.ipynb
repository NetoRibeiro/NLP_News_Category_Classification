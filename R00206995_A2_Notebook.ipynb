{
  "cells": [
    {
      "cell_type": "markdown",
      "metadata": {},
      "source": [
        "# DATA8001 - Assignment 2\n",
        "\n",
        "### Student Name: Neto Ribeiro\n",
        "### Student ID: R00206995"
      ]
    },
    {
      "cell_type": "markdown",
      "metadata": {},
      "source": [
        "## 1. Libraries"
      ]
    },
    {
      "cell_type": "code",
      "metadata": {},
      "source": [
        "import pandas as pd\n",
        "\n",
        "# you custom data8001 lib\n",
        "from lib import R00206995_util as util"
      ],
      "outputs": [],
      "execution_count": 1
    },
    {
      "cell_type": "markdown",
      "metadata": {},
      "source": [
        "## 2. Assignment Variables"
      ]
    },
    {
      "cell_type": "code",
      "metadata": {},
      "source": [
        "STUDENT_ID = 'R00206995'"
      ],
      "outputs": [],
      "execution_count": 2
    },
    {
      "cell_type": "markdown",
      "metadata": {},
      "source": [
        "## 3. Load & Clean News Files"
      ]
    },
    {
      "cell_type": "code",
      "metadata": {},
      "source": [
        "df_R00206995 = util.data_etl(STUDENT_ID)\n",
        "print(df_R00206995.shape)\n",
        "df_R00206995.head(2)"
      ],
      "outputs": [
        {
          "output_type": "stream",
          "name": "stdout",
          "text": [
            "cleaning data for R00206995 ...\nStage A\nStage B\n(2000, 2)\n"
          ]
        },
        {
          "output_type": "execute_result",
          "data": {
            "text/plain": [
              "                                       news_headline  \\\n",
              "0  Gill should play in middle order as Kohli's re...   \n",
              "1  Govts, corporates should have stricter climate...   \n",
              "\n",
              "                                        news_article  \n",
              "0  Cricketer-turned-commentator Aakash Chopra has...  \n",
              "1  Apple CEO Tim Cook on Saturday called on gover...  "
            ],
            "text/html": "<div>\n<style scoped>\n    .dataframe tbody tr th:only-of-type {\n        vertical-align: middle;\n    }\n\n    .dataframe tbody tr th {\n        vertical-align: top;\n    }\n\n    .dataframe thead th {\n        text-align: right;\n    }\n</style>\n<table border=\"1\" class=\"dataframe\">\n  <thead>\n    <tr style=\"text-align: right;\">\n      <th></th>\n      <th>news_headline</th>\n      <th>news_article</th>\n    </tr>\n  </thead>\n  <tbody>\n    <tr>\n      <th>0</th>\n      <td>Gill should play in middle order as Kohli's re...</td>\n      <td>Cricketer-turned-commentator Aakash Chopra has...</td>\n    </tr>\n    <tr>\n      <th>1</th>\n      <td>Govts, corporates should have stricter climate...</td>\n      <td>Apple CEO Tim Cook on Saturday called on gover...</td>\n    </tr>\n  </tbody>\n</table>\n</div>"
          },
          "metadata": {},
          "execution_count": 3
        }
      ],
      "execution_count": 3
    },
    {
      "cell_type": "markdown",
      "metadata": {},
      "source": []
    },
    {
      "cell_type": "markdown",
      "metadata": {},
      "source": [
        "## 4. Load & Use Model\n",
        "Call the specified model to predict a news category"
      ]
    },
    {
      "cell_type": "code",
      "metadata": {
        "tags": []
      },
      "source": [
        "\n",
        "model_id = 'model_2' # ['model_1', 'model_2', 'model_3']\n",
        "news_headline = \"Covid: Brazil passes 400,000 deaths amid slow vaccination\"\n",
        "news_article = \"The number of deaths related to Covid-19 has passed 400,000 in Brazil, the second-highest in the world, as the country continues to struggle with its vaccination programme. There were 3,001 deaths in 24 hours, after a peak of more than 4,000 was reached at the start of April. The 14-day average of deaths and cases remains high but has seen a slight fall. Congress has opened an inquiry into the government handling of the pandemic. President Jair Bolsonaro, who has frequently spoken out against lockdowns, masks and defended unproved drugs as treatment, is facing widespread criticism and his support has plummeted.\"\n",
        "\n",
        "R00206995_model, news_category = util.load_run_model(model_id=model_id, student_id=STUDENT_ID, news_headline=news_headline, news_article=news_article)"
      ],
      "outputs": [
        {
          "output_type": "stream",
          "name": "stdout",
          "text": [
            "loading and running the model_3 model for R00206995 ...\n",
            "[nltk_data] Downloading package stopwords to\n",
            "[nltk_data]     C:\\Users\\Neto\\AppData\\Roaming\\nltk_data...\n",
            "[nltk_data]   Package stopwords is already up-to-date!\n",
            "[nltk_data] Downloading package wordnet to\n",
            "[nltk_data]     C:\\Users\\Neto\\AppData\\Roaming\\nltk_data...\n",
            "[nltk_data]   Package wordnet is already up-to-date!\n",
            "[nltk_data] Downloading package punkt to\n",
            "[nltk_data]     C:\\Users\\Neto\\AppData\\Roaming\\nltk_data...\n",
            "[nltk_data]   Package punkt is already up-to-date!\n",
            "[nltk_data] Downloading package averaged_perceptron_tagger to\n",
            "[nltk_data]     C:\\Users\\Neto\\AppData\\Roaming\\nltk_data...\n",
            "[nltk_data]   Package averaged_perceptron_tagger is already up-to-\n",
            "[nltk_data]       date!\n"
          ]
        }
      ],
      "execution_count": 4
    },
    {
      "cell_type": "code",
      "execution_count": 5,
      "metadata": {},
      "outputs": [
        {
          "output_type": "execute_result",
          "data": {
            "text/plain": [
              "(Pipeline(steps=[('vectorizer',\n",
              "                  TfidfVectorizer(max_features=10000, ngram_range=(1, 2))),\n",
              "                 ('classifier',\n",
              "                  RandomForestClassifier(bootstrap=False, criterion='entropy',\n",
              "                                         n_estimators=200))]),\n",
              " array(['WORLD'], dtype=object))"
            ]
          },
          "metadata": {},
          "execution_count": 5
        }
      ],
      "source": [
        "R00206995_model, news_category"
      ]
    },
    {
      "cell_type": "markdown",
      "metadata": {},
      "source": []
    }
  ],
  "metadata": {
    "anaconda-cloud": {},
    "kernelspec": {
      "name": "python394jvsc74a57bd0196e1420f5fbfbec4c57d3c615e8c918919c4733f1e684022dafd37546f5964d",
      "display_name": "Python 3.9.4 64-bit"
    },
    "language_info": {
      "codemirror_mode": {
        "name": "ipython",
        "version": 3
      },
      "file_extension": ".py",
      "mimetype": "text/x-python",
      "name": "python",
      "nbconvert_exporter": "python",
      "pygments_lexer": "ipython3",
      "version": "3.9.4"
    },
    "metadata": {
      "interpreter": {
        "hash": "196e1420f5fbfbec4c57d3c615e8c918919c4733f1e684022dafd37546f5964d"
      }
    }
  },
  "nbformat": 4,
  "nbformat_minor": 4
}